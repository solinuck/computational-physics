{
 "cells": [
  {
   "cell_type": "code",
   "execution_count": 1,
   "metadata": {
    "collapsed": true
   },
   "outputs": [],
   "source": [
    "import numpy as np\n",
    "import matplotlib.pyplot as plt"
   ]
  },
  {
   "cell_type": "code",
   "execution_count": 2,
   "metadata": {
    "collapsed": true
   },
   "outputs": [],
   "source": [
    "def harmonic_euler(time_steps, tau, x0, v0=0, k=1, m=1):\n",
    "    x = np.zeros(time_steps)\n",
    "    x[0] = x0\n",
    "    v = np.zeros(time_steps)\n",
    "    v[0] = v0\n",
    "    a = np.zeros(time_steps)\n",
    "\n",
    "    E = np.zeros(time_steps)\n",
    "\n",
    "    for i in range(0, time_steps - 1):\n",
    "        a[i] = -k / m * x[i]\n",
    "        v[i + 1] = v[i] + tau * a[i]\n",
    "        x[i + 1] = x[i] + tau * v[i]\n",
    "        E[i] = 0.5 * m * v[i] ** 2 + 0.5 * k * x[i] ** 2\n",
    "    E[-1] = E[-2] * (1 + k / m * tau ** 2)\n",
    "    return x, E"
   ]
  },
  {
   "cell_type": "code",
   "execution_count": 3,
   "metadata": {
    "collapsed": true
   },
   "outputs": [],
   "source": [
    "def harmonic_verlet(time_steps, tau, x0, v0=0, k=1, m=1):\n",
    "    x = np.zeros(time_steps)\n",
    "    a0 = -k / m * x0\n",
    "    x[0] = x0 - tau * v0 + (tau ** 2) * a0 / 2\n",
    "    x[1] = x0\n",
    "    v = np.zeros(time_steps)\n",
    "    # v[1] = v0\n",
    "\n",
    "    E = np.zeros(time_steps)\n",
    "    # E[1] = 0.5 * (m * v[1] ** 2 + k * x[1] ** 2)\n",
    "    a = np.zeros(time_steps)\n",
    "    for i in range(1, time_steps - 1):\n",
    "        a[i] = -k / m * x[i]\n",
    "        x[i + 1] = 2 * x[i] - x[i - 1] + tau ** 2 * a[i]\n",
    "        v[i] = (x[i + 1] - x[i - 1]) / (2 * tau)\n",
    "        E[i] = 0.5 * (m * v[i] ** 2 + k * x[i] ** 2)\n",
    "\n",
    "    return x[1:-1], E[1:-1]"
   ]
  },
  {
   "cell_type": "code",
   "execution_count": 4,
   "metadata": {
    "collapsed": true
   },
   "outputs": [],
   "source": [
    "def euler_cromer(time_steps, tau, x0, v0=0, k=1, m=1):\n",
    "    x = np.zeros(time_steps)\n",
    "    x[0] = x0\n",
    "    v = np.zeros(time_steps)\n",
    "    v[0] = v0\n",
    "    a = np.zeros(time_steps)\n",
    "\n",
    "    E = np.zeros(time_steps)\n",
    "\n",
    "    for i in range(0, time_steps - 1):\n",
    "        a[i] = -k / m * x[i]\n",
    "        v[i + 1] = v[i] + tau * a[i]\n",
    "        x[i + 1] = x[i] + tau * v[i + 1]\n",
    "        E[i] = 0.5 * (m * v[i] ** 2 + k * x[i] ** 2)\n",
    "    E[-1] = 0.5 * (m * v[-1] ** 2 + k * x[-1] ** 2)\n",
    "    return x, E"
   ]
  },
  {
   "cell_type": "code",
   "execution_count": 5,
   "metadata": {},
   "outputs": [],
   "source": [
    "def plotting(x, E, color, labelName):\n",
    "    plt.plot(x, color=color, label=labelName)\n",
    "    plt.plot(E, color=color)\n",
    "    plt.legend()"
   ]
  },
  {
   "cell_type": "code",
   "execution_count": 7,
   "metadata": {},
   "outputs": [
    {
     "data": {
      "image/png": "[encoded data removed]",
      "text/plain": [
       "<matplotlib.figure.Figure at 0x12ddb88afd0>"
      ]
     },
     "metadata": {},
     "output_type": "display_data"
    }
   ],
   "source": [
    "x1, E1 = harmonic_euler(100, 0.1, 10)\n",
    "x2, E2 = harmonic_verlet(100, 0.1, 10)\n",
    "x3, E3 = euler_cromer(100, 0.1, 10)\n",
    "\n",
    "plotting(x1, E1, \"green\", \"euler\")\n",
    "plotting(x2, E2, \"blue\", \"verlet\")\n",
    "plotting(x3, E3, \"red\", \"euler_cromer\")\n",
    "\n",
    "plt.text(50, 60, \"Energy\")\n",
    "plt.text(20, 10, \"Amplitude\")\n",
    "plt.show()\n",
    "plt.close()"
   ]
  },
  {
   "cell_type": "markdown",
   "metadata": {},
   "source": [
    "## Results\n",
    "As we can see, the Euler method has a diverging total energy, and the simulation differs substantially from the other methods even after only a hundred iterations.\n",
    "The other two methods work better, and the Verlet method provides a stable, almost constant total energy, which is a result of the symplectic nature of the method."
   ]
  },
  {
   "cell_type": "code",
   "execution_count": null,
   "metadata": {
    "collapsed": true
   },
   "outputs": [],
   "source": []
  }
 ],
 "metadata": {
  "kernelspec": {
   "display_name": "Python 3",
   "language": "python",
   "name": "python3"
  },
  "language_info": {
   "codemirror_mode": {
    "name": "ipython",
    "version": 3
   },
   "file_extension": ".py",
   "mimetype": "text/x-python",
   "name": "python",
   "nbconvert_exporter": "python",
   "pygments_lexer": "ipython3",
   "version": "3.6.1"
  }
 },
 "nbformat": 4,
 "nbformat_minor": 2
}
